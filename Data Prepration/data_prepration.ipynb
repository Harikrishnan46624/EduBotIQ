{
 "cells": [
  {
   "cell_type": "code",
   "execution_count": 1,
   "metadata": {},
   "outputs": [
    {
     "name": "stdout",
     "output_type": "stream",
     "text": [
      "Conversion completed. CSV files saved in the csv_data directory.\n"
     ]
    }
   ],
   "source": [
    "import pandas as pd\n",
    "import glob\n",
    "import os\n",
    "\n",
    "def json_to_csv(json_files, output_csv_directory):\n",
    "    for file in json_files:\n",
    "        # Get the base name of the JSON file (without extension)\n",
    "        base_name = os.path.splitext(os.path.basename(file))[0]\n",
    "        \n",
    "        with open(file, 'r') as f:\n",
    "            # Read JSON data\n",
    "            data = pd.read_json(f)\n",
    "            \n",
    "            # Save the DataFrame to a CSV file in the specified directory\n",
    "            output_csv = os.path.join(output_csv_directory, f\"{base_name}.csv\")\n",
    "            data.to_csv(output_csv, index=False)\n",
    "\n",
    "if __name__ == \"__main__\":\n",
    "    # Specify the path to your JSON files\n",
    "    json_files = glob.glob(r'E:\\projects\\EduBotIQ\\Data Prepration\\Data\\*.json')\n",
    "\n",
    "    # Specify the output CSV directory\n",
    "    output_csv_directory = 'csv_data'\n",
    "\n",
    "    # Create the output CSV directory if it doesn't exist\n",
    "    os.makedirs(output_csv_directory, exist_ok=True)\n",
    "\n",
    "    # Convert JSON to CSV and save in the specified directory\n",
    "    json_to_csv(json_files, output_csv_directory)\n",
    "\n",
    "    print(f\"Conversion completed. CSV files saved in the {output_csv_directory} directory.\")\n",
    "\n"
   ]
  },
  {
   "cell_type": "code",
   "execution_count": 4,
   "metadata": {},
   "outputs": [
    {
     "name": "stdout",
     "output_type": "stream",
     "text": [
      "Combination completed. Combined CSV file saved as train.csv\n"
     ]
    }
   ],
   "source": [
    "import pandas as pd\n",
    "import glob\n",
    "import os\n",
    "\n",
    "\n",
    "def combine_csv_files(input_csv_directory, output_csv):\n",
    "    csv_files = glob.glob(os.path.join(input_csv_directory, '*.csv'))\n",
    "\n",
    "    combined_df = pd.concat([pd.read_csv(file) for file in csv_files], ignore_index=True)\n",
    "\n",
    "    combined_df.to_csv(output_csv, index=False)\n",
    "\n",
    "if __name__ == \"__main__\":\n",
    "    # Specify the input CSV directory\n",
    "    input_csv_directory = 'E:\\projects\\EduBotIQ\\Data Prepration\\csv_data'  # Replace with your actual directory path\n",
    "\n",
    "    # Specify the output CSV file\n",
    "    output_csv = 'train.csv'  # Include the file name\n",
    "\n",
    "    # Combine CSV files from the input directory into a single CSV\n",
    "    combine_csv_files(input_csv_directory, output_csv)\n",
    "\n",
    "    print(f\"Combination completed. Combined CSV file saved as {output_csv}\")\n"
   ]
  },
  {
   "cell_type": "code",
   "execution_count": 5,
   "metadata": {},
   "outputs": [],
   "source": [
    "df = pd.read_csv(r\"E:\\projects\\EduBotIQ\\Data Prepration\\train.csv\")"
   ]
  },
  {
   "cell_type": "code",
   "execution_count": 6,
   "metadata": {},
   "outputs": [
    {
     "data": {
      "text/html": [
       "<div>\n",
       "<style scoped>\n",
       "    .dataframe tbody tr th:only-of-type {\n",
       "        vertical-align: middle;\n",
       "    }\n",
       "\n",
       "    .dataframe tbody tr th {\n",
       "        vertical-align: top;\n",
       "    }\n",
       "\n",
       "    .dataframe thead th {\n",
       "        text-align: right;\n",
       "    }\n",
       "</style>\n",
       "<table border=\"1\" class=\"dataframe\">\n",
       "  <thead>\n",
       "    <tr style=\"text-align: right;\">\n",
       "      <th></th>\n",
       "      <th>id</th>\n",
       "      <th>question</th>\n",
       "      <th>answer</th>\n",
       "    </tr>\n",
       "  </thead>\n",
       "  <tbody>\n",
       "    <tr>\n",
       "      <th>0</th>\n",
       "      <td>1</td>\n",
       "      <td>What is Natural Language Processing (NLP)?</td>\n",
       "      <td>Natural Language Processing is a field of arti...</td>\n",
       "    </tr>\n",
       "    <tr>\n",
       "      <th>1</th>\n",
       "      <td>2</td>\n",
       "      <td>How does NLP relate to Computer Vision?</td>\n",
       "      <td>NLP and Computer Vision often complement each ...</td>\n",
       "    </tr>\n",
       "    <tr>\n",
       "      <th>2</th>\n",
       "      <td>3</td>\n",
       "      <td>What is the role of tokenization in NLP?</td>\n",
       "      <td>Tokenization is the process of breaking down t...</td>\n",
       "    </tr>\n",
       "    <tr>\n",
       "      <th>3</th>\n",
       "      <td>4</td>\n",
       "      <td>Can you explain the concept of word embeddings?</td>\n",
       "      <td>Word embeddings are numerical representations ...</td>\n",
       "    </tr>\n",
       "    <tr>\n",
       "      <th>4</th>\n",
       "      <td>5</td>\n",
       "      <td>What is object recognition in Computer Vision?</td>\n",
       "      <td>Object recognition is a Computer Vision task t...</td>\n",
       "    </tr>\n",
       "  </tbody>\n",
       "</table>\n",
       "</div>"
      ],
      "text/plain": [
       "   id                                         question  \\\n",
       "0   1       What is Natural Language Processing (NLP)?   \n",
       "1   2          How does NLP relate to Computer Vision?   \n",
       "2   3         What is the role of tokenization in NLP?   \n",
       "3   4  Can you explain the concept of word embeddings?   \n",
       "4   5   What is object recognition in Computer Vision?   \n",
       "\n",
       "                                              answer  \n",
       "0  Natural Language Processing is a field of arti...  \n",
       "1  NLP and Computer Vision often complement each ...  \n",
       "2  Tokenization is the process of breaking down t...  \n",
       "3  Word embeddings are numerical representations ...  \n",
       "4  Object recognition is a Computer Vision task t...  "
      ]
     },
     "execution_count": 6,
     "metadata": {},
     "output_type": "execute_result"
    }
   ],
   "source": [
    "df.head()"
   ]
  },
  {
   "cell_type": "code",
   "execution_count": 8,
   "metadata": {},
   "outputs": [
    {
     "data": {
      "text/plain": [
       "(1125, 3)"
      ]
     },
     "execution_count": 8,
     "metadata": {},
     "output_type": "execute_result"
    }
   ],
   "source": [
    "df.shape"
   ]
  },
  {
   "cell_type": "code",
   "execution_count": 9,
   "metadata": {},
   "outputs": [
    {
     "name": "stdout",
     "output_type": "stream",
     "text": [
      "<class 'pandas.core.frame.DataFrame'>\n",
      "RangeIndex: 1125 entries, 0 to 1124\n",
      "Data columns (total 3 columns):\n",
      " #   Column    Non-Null Count  Dtype \n",
      "---  ------    --------------  ----- \n",
      " 0   id        1125 non-null   int64 \n",
      " 1   question  1125 non-null   object\n",
      " 2   answer    1125 non-null   object\n",
      "dtypes: int64(1), object(2)\n",
      "memory usage: 26.5+ KB\n"
     ]
    }
   ],
   "source": [
    "df.info()"
   ]
  },
  {
   "cell_type": "code",
   "execution_count": 13,
   "metadata": {},
   "outputs": [],
   "source": [
    "df.drop(\"id\", axis=1, inplace=True)"
   ]
  },
  {
   "cell_type": "code",
   "execution_count": 14,
   "metadata": {},
   "outputs": [
    {
     "data": {
      "text/html": [
       "<div>\n",
       "<style scoped>\n",
       "    .dataframe tbody tr th:only-of-type {\n",
       "        vertical-align: middle;\n",
       "    }\n",
       "\n",
       "    .dataframe tbody tr th {\n",
       "        vertical-align: top;\n",
       "    }\n",
       "\n",
       "    .dataframe thead th {\n",
       "        text-align: right;\n",
       "    }\n",
       "</style>\n",
       "<table border=\"1\" class=\"dataframe\">\n",
       "  <thead>\n",
       "    <tr style=\"text-align: right;\">\n",
       "      <th></th>\n",
       "      <th>question</th>\n",
       "      <th>answer</th>\n",
       "    </tr>\n",
       "  </thead>\n",
       "  <tbody>\n",
       "    <tr>\n",
       "      <th>0</th>\n",
       "      <td>What is Natural Language Processing (NLP)?</td>\n",
       "      <td>Natural Language Processing is a field of arti...</td>\n",
       "    </tr>\n",
       "    <tr>\n",
       "      <th>1</th>\n",
       "      <td>How does NLP relate to Computer Vision?</td>\n",
       "      <td>NLP and Computer Vision often complement each ...</td>\n",
       "    </tr>\n",
       "    <tr>\n",
       "      <th>2</th>\n",
       "      <td>What is the role of tokenization in NLP?</td>\n",
       "      <td>Tokenization is the process of breaking down t...</td>\n",
       "    </tr>\n",
       "    <tr>\n",
       "      <th>3</th>\n",
       "      <td>Can you explain the concept of word embeddings?</td>\n",
       "      <td>Word embeddings are numerical representations ...</td>\n",
       "    </tr>\n",
       "    <tr>\n",
       "      <th>4</th>\n",
       "      <td>What is object recognition in Computer Vision?</td>\n",
       "      <td>Object recognition is a Computer Vision task t...</td>\n",
       "    </tr>\n",
       "  </tbody>\n",
       "</table>\n",
       "</div>"
      ],
      "text/plain": [
       "                                          question  \\\n",
       "0       What is Natural Language Processing (NLP)?   \n",
       "1          How does NLP relate to Computer Vision?   \n",
       "2         What is the role of tokenization in NLP?   \n",
       "3  Can you explain the concept of word embeddings?   \n",
       "4   What is object recognition in Computer Vision?   \n",
       "\n",
       "                                              answer  \n",
       "0  Natural Language Processing is a field of arti...  \n",
       "1  NLP and Computer Vision often complement each ...  \n",
       "2  Tokenization is the process of breaking down t...  \n",
       "3  Word embeddings are numerical representations ...  \n",
       "4  Object recognition is a Computer Vision task t...  "
      ]
     },
     "execution_count": 14,
     "metadata": {},
     "output_type": "execute_result"
    }
   ],
   "source": [
    "df.head()"
   ]
  },
  {
   "cell_type": "code",
   "execution_count": 16,
   "metadata": {},
   "outputs": [],
   "source": [
    "df.to_csv('new_train.csv')"
   ]
  },
  {
   "cell_type": "code",
   "execution_count": null,
   "metadata": {},
   "outputs": [],
   "source": []
  }
 ],
 "metadata": {
  "kernelspec": {
   "display_name": "Python 3",
   "language": "python",
   "name": "python3"
  },
  "language_info": {
   "codemirror_mode": {
    "name": "ipython",
    "version": 3
   },
   "file_extension": ".py",
   "mimetype": "text/x-python",
   "name": "python",
   "nbconvert_exporter": "python",
   "pygments_lexer": "ipython3",
   "version": "3.11.7"
  }
 },
 "nbformat": 4,
 "nbformat_minor": 2
}
